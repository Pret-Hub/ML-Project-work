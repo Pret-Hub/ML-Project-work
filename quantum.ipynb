{
 "cells": [
  {
   "cell_type": "code",
   "execution_count": 3,
   "metadata": {},
   "outputs": [
    {
     "name": "stdout",
     "output_type": "stream",
     "text": [
      "Python 3.8.10\n"
     ]
    }
   ],
   "source": [
    "!python --version"
   ]
  },
  {
   "cell_type": "code",
   "execution_count": 1,
   "metadata": {},
   "outputs": [
    {
     "name": "stdout",
     "output_type": "stream",
     "text": [
      "Note: you may need to restart the kernel to use updated packages.\n"
     ]
    }
   ],
   "source": [
    "%pip install -q tensorflow==2.8.0"
   ]
  },
  {
   "cell_type": "code",
   "execution_count": 2,
   "metadata": {},
   "outputs": [
    {
     "name": "stdout",
     "output_type": "stream",
     "text": [
      "Collecting tensorflow-quantum==0.7.2\n",
      "  Downloading tensorflow_quantum-0.7.2-cp38-cp38-manylinux_2_12_x86_64.manylinux2010_x86_64.whl.metadata (1.8 kB)\n",
      "Collecting cirq-core==0.13.1 (from tensorflow-quantum==0.7.2)\n",
      "  Downloading cirq_core-0.13.1-py3-none-any.whl.metadata (2.1 kB)\n",
      "Collecting cirq-google>=0.13.1 (from tensorflow-quantum==0.7.2)\n",
      "  Downloading cirq_google-1.1.0-py3-none-any.whl.metadata (2.0 kB)\n",
      "Collecting sympy==1.8 (from tensorflow-quantum==0.7.2)\n",
      "  Downloading sympy-1.8-py3-none-any.whl.metadata (11 kB)\n",
      "Collecting googleapis-common-protos==1.52.0 (from tensorflow-quantum==0.7.2)\n",
      "  Downloading googleapis_common_protos-1.52.0-py2.py3-none-any.whl.metadata (1.3 kB)\n",
      "Collecting google-api-core==1.21.0 (from tensorflow-quantum==0.7.2)\n",
      "  Downloading google_api_core-1.21.0-py2.py3-none-any.whl.metadata (2.3 kB)\n",
      "Collecting google-auth==1.18.0 (from tensorflow-quantum==0.7.2)\n",
      "  Downloading google_auth-1.18.0-py2.py3-none-any.whl.metadata (3.1 kB)\n",
      "Collecting protobuf==3.17.3 (from tensorflow-quantum==0.7.2)\n",
      "  Downloading protobuf-3.17.3-cp38-cp38-manylinux_2_5_x86_64.manylinux1_x86_64.whl.metadata (857 bytes)\n",
      "Collecting duet~=0.2.0 (from cirq-core==0.13.1->tensorflow-quantum==0.7.2)\n",
      "  Downloading duet-0.2.8-py3-none-any.whl.metadata (2.2 kB)\n",
      "Collecting matplotlib~=3.0 (from cirq-core==0.13.1->tensorflow-quantum==0.7.2)\n",
      "  Downloading matplotlib-3.7.5-cp38-cp38-manylinux_2_12_x86_64.manylinux2010_x86_64.whl.metadata (5.7 kB)\n",
      "Collecting networkx~=2.4 (from cirq-core==0.13.1->tensorflow-quantum==0.7.2)\n",
      "  Downloading networkx-2.8.8-py3-none-any.whl.metadata (5.1 kB)\n",
      "Requirement already satisfied: numpy~=1.16 in ./.venv/lib/python3.8/site-packages (from cirq-core==0.13.1->tensorflow-quantum==0.7.2) (1.24.4)\n",
      "Collecting pandas (from cirq-core==0.13.1->tensorflow-quantum==0.7.2)\n",
      "  Downloading pandas-2.0.3-cp38-cp38-manylinux_2_17_x86_64.manylinux2014_x86_64.whl.metadata (18 kB)\n",
      "Collecting scipy (from cirq-core==0.13.1->tensorflow-quantum==0.7.2)\n",
      "  Downloading scipy-1.10.1-cp38-cp38-manylinux_2_17_x86_64.manylinux2014_x86_64.whl.metadata (58 kB)\n",
      "Collecting sortedcontainers~=2.0 (from cirq-core==0.13.1->tensorflow-quantum==0.7.2)\n",
      "  Using cached sortedcontainers-2.4.0-py2.py3-none-any.whl.metadata (10 kB)\n",
      "Collecting tqdm (from cirq-core==0.13.1->tensorflow-quantum==0.7.2)\n",
      "  Using cached tqdm-4.66.5-py3-none-any.whl.metadata (57 kB)\n",
      "Requirement already satisfied: typing-extensions in ./.venv/lib/python3.8/site-packages (from cirq-core==0.13.1->tensorflow-quantum==0.7.2) (4.12.2)\n",
      "Requirement already satisfied: requests<3.0.0dev,>=2.18.0 in ./.venv/lib/python3.8/site-packages (from google-api-core==1.21.0->tensorflow-quantum==0.7.2) (2.32.3)\n",
      "Requirement already satisfied: setuptools>=34.0.0 in ./.venv/lib/python3.8/site-packages (from google-api-core==1.21.0->tensorflow-quantum==0.7.2) (75.1.0)\n",
      "Requirement already satisfied: six>=1.10.0 in ./.venv/lib/python3.8/site-packages (from google-api-core==1.21.0->tensorflow-quantum==0.7.2) (1.16.0)\n",
      "Collecting pytz (from google-api-core==1.21.0->tensorflow-quantum==0.7.2)\n",
      "  Downloading pytz-2024.2-py2.py3-none-any.whl.metadata (22 kB)\n",
      "Collecting cachetools<5.0,>=2.0.0 (from google-auth==1.18.0->tensorflow-quantum==0.7.2)\n",
      "  Downloading cachetools-4.2.4-py3-none-any.whl.metadata (4.8 kB)\n",
      "Requirement already satisfied: pyasn1-modules>=0.2.1 in ./.venv/lib/python3.8/site-packages (from google-auth==1.18.0->tensorflow-quantum==0.7.2) (0.4.1)\n",
      "Requirement already satisfied: rsa<5,>=3.1.4 in ./.venv/lib/python3.8/site-packages (from google-auth==1.18.0->tensorflow-quantum==0.7.2) (4.9)\n",
      "Collecting mpmath>=0.19 (from sympy==1.8->tensorflow-quantum==0.7.2)\n",
      "  Downloading mpmath-1.3.0-py3-none-any.whl.metadata (8.6 kB)\n",
      "Collecting proto-plus>=1.20.0 (from cirq-google>=0.13.1->tensorflow-quantum==0.7.2)\n",
      "  Using cached proto_plus-1.24.0-py3-none-any.whl.metadata (2.2 kB)\n",
      "INFO: pip is looking at multiple versions of cirq-google to determine which version is compatible with other requirements. This could take a while.\n",
      "Collecting cirq-google>=0.13.1 (from tensorflow-quantum==0.7.2)\n",
      "  Downloading cirq_google-1.0.0-py3-none-any.whl.metadata (2.0 kB)\n",
      "  Downloading cirq_google-0.15.0-py3-none-any.whl.metadata (2.0 kB)\n",
      "  Downloading cirq_google-0.14.1-py3-none-any.whl.metadata (1.9 kB)\n",
      "  Downloading cirq_google-0.14.0-py3-none-any.whl.metadata (1.9 kB)\n",
      "  Downloading cirq_google-0.13.1-py3-none-any.whl.metadata (1.9 kB)\n",
      "Requirement already satisfied: grpcio<2.0dev,>=1.29.0 in ./.venv/lib/python3.8/site-packages (from google-api-core[grpc]<2.0.0dev,>=1.14.0->cirq-google>=0.13.1->tensorflow-quantum==0.7.2) (1.66.2)\n",
      "Collecting contourpy>=1.0.1 (from matplotlib~=3.0->cirq-core==0.13.1->tensorflow-quantum==0.7.2)\n",
      "  Downloading contourpy-1.1.1-cp38-cp38-manylinux_2_17_x86_64.manylinux2014_x86_64.whl.metadata (5.9 kB)\n",
      "Collecting cycler>=0.10 (from matplotlib~=3.0->cirq-core==0.13.1->tensorflow-quantum==0.7.2)\n",
      "  Downloading cycler-0.12.1-py3-none-any.whl.metadata (3.8 kB)\n",
      "Collecting fonttools>=4.22.0 (from matplotlib~=3.0->cirq-core==0.13.1->tensorflow-quantum==0.7.2)\n",
      "  Downloading fonttools-4.54.1-cp38-cp38-manylinux_2_17_x86_64.manylinux2014_x86_64.whl.metadata (163 kB)\n",
      "Collecting kiwisolver>=1.0.1 (from matplotlib~=3.0->cirq-core==0.13.1->tensorflow-quantum==0.7.2)\n",
      "  Downloading kiwisolver-1.4.7-cp38-cp38-manylinux_2_5_x86_64.manylinux1_x86_64.whl.metadata (6.3 kB)\n",
      "Requirement already satisfied: packaging>=20.0 in ./.venv/lib/python3.8/site-packages (from matplotlib~=3.0->cirq-core==0.13.1->tensorflow-quantum==0.7.2) (24.1)\n",
      "Collecting pillow>=6.2.0 (from matplotlib~=3.0->cirq-core==0.13.1->tensorflow-quantum==0.7.2)\n",
      "  Downloading pillow-10.4.0-cp38-cp38-manylinux_2_28_x86_64.whl.metadata (9.2 kB)\n",
      "Collecting pyparsing>=2.3.1 (from matplotlib~=3.0->cirq-core==0.13.1->tensorflow-quantum==0.7.2)\n",
      "  Downloading pyparsing-3.1.4-py3-none-any.whl.metadata (5.1 kB)\n",
      "Requirement already satisfied: python-dateutil>=2.7 in ./.venv/lib/python3.8/site-packages (from matplotlib~=3.0->cirq-core==0.13.1->tensorflow-quantum==0.7.2) (2.9.0.post0)\n",
      "Collecting importlib-resources>=3.2.0 (from matplotlib~=3.0->cirq-core==0.13.1->tensorflow-quantum==0.7.2)\n",
      "  Downloading importlib_resources-6.4.5-py3-none-any.whl.metadata (4.0 kB)\n",
      "Requirement already satisfied: pyasn1<0.7.0,>=0.4.6 in ./.venv/lib/python3.8/site-packages (from pyasn1-modules>=0.2.1->google-auth==1.18.0->tensorflow-quantum==0.7.2) (0.6.1)\n",
      "Requirement already satisfied: charset-normalizer<4,>=2 in ./.venv/lib/python3.8/site-packages (from requests<3.0.0dev,>=2.18.0->google-api-core==1.21.0->tensorflow-quantum==0.7.2) (3.3.2)\n",
      "Requirement already satisfied: idna<4,>=2.5 in ./.venv/lib/python3.8/site-packages (from requests<3.0.0dev,>=2.18.0->google-api-core==1.21.0->tensorflow-quantum==0.7.2) (3.10)\n",
      "Requirement already satisfied: urllib3<3,>=1.21.1 in ./.venv/lib/python3.8/site-packages (from requests<3.0.0dev,>=2.18.0->google-api-core==1.21.0->tensorflow-quantum==0.7.2) (2.2.3)\n",
      "Requirement already satisfied: certifi>=2017.4.17 in ./.venv/lib/python3.8/site-packages (from requests<3.0.0dev,>=2.18.0->google-api-core==1.21.0->tensorflow-quantum==0.7.2) (2024.8.30)\n",
      "Collecting tzdata>=2022.1 (from pandas->cirq-core==0.13.1->tensorflow-quantum==0.7.2)\n",
      "  Downloading tzdata-2024.2-py2.py3-none-any.whl.metadata (1.4 kB)\n",
      "Requirement already satisfied: zipp>=3.1.0 in ./.venv/lib/python3.8/site-packages (from importlib-resources>=3.2.0->matplotlib~=3.0->cirq-core==0.13.1->tensorflow-quantum==0.7.2) (3.20.2)\n",
      "Downloading tensorflow_quantum-0.7.2-cp38-cp38-manylinux_2_12_x86_64.manylinux2010_x86_64.whl (10.5 MB)\n",
      "\u001b[2K   \u001b[90m━━━━━━━━━━━━━━━━━━━━━━━━━━━━━━━━━━━━━━━━\u001b[0m \u001b[32m10.5/10.5 MB\u001b[0m \u001b[31m1.2 MB/s\u001b[0m eta \u001b[36m0:00:00\u001b[0m00:01\u001b[0m0:01\u001b[0m0m\n",
      "\u001b[?25hDownloading cirq_core-0.13.1-py3-none-any.whl (1.6 MB)\n",
      "\u001b[2K   \u001b[90m━━━━━━━━━━━━━━━━━━━━━━━━━━━━━━━━━━━━━━━━\u001b[0m \u001b[32m1.6/1.6 MB\u001b[0m \u001b[31m3.1 MB/s\u001b[0m eta \u001b[36m0:00:00\u001b[0ma \u001b[36m0:00:01\u001b[0mm\n",
      "\u001b[?25hDownloading google_api_core-1.21.0-py2.py3-none-any.whl (90 kB)\n",
      "Downloading google_auth-1.18.0-py2.py3-none-any.whl (90 kB)\n",
      "Downloading googleapis_common_protos-1.52.0-py2.py3-none-any.whl (100 kB)\n",
      "Downloading protobuf-3.17.3-cp38-cp38-manylinux_2_5_x86_64.manylinux1_x86_64.whl (1.0 MB)\n",
      "\u001b[2K   \u001b[90m━━━━━━━━━━━━━━━━━━━━━━━━━━━━━━━━━━━━━━━━\u001b[0m \u001b[32m1.0/1.0 MB\u001b[0m \u001b[31m13.6 MB/s\u001b[0m eta \u001b[36m0:00:00\u001b[0m\n",
      "\u001b[?25hDownloading sympy-1.8-py3-none-any.whl (6.1 MB)\n",
      "\u001b[2K   \u001b[90m━━━━━━━━━━━━━━━━━━━━━━━━━━━━━━━━━━━━━━━━\u001b[0m \u001b[32m6.1/6.1 MB\u001b[0m \u001b[31m38.7 MB/s\u001b[0m eta \u001b[36m0:00:00\u001b[0m\n",
      "\u001b[?25hDownloading cirq_google-0.13.1-py3-none-any.whl (437 kB)\n",
      "Downloading cachetools-4.2.4-py3-none-any.whl (10 kB)\n",
      "Downloading duet-0.2.8-py3-none-any.whl (29 kB)\n",
      "Downloading matplotlib-3.7.5-cp38-cp38-manylinux_2_12_x86_64.manylinux2010_x86_64.whl (9.2 MB)\n",
      "\u001b[2K   \u001b[90m━━━━━━━━━━━━━━━━━━━━━━━━━━━━━━━━━━━━━━━━\u001b[0m \u001b[32m9.2/9.2 MB\u001b[0m \u001b[31m44.2 MB/s\u001b[0m eta \u001b[36m0:00:00\u001b[0m00:01\u001b[0m\n",
      "\u001b[?25hDownloading mpmath-1.3.0-py3-none-any.whl (536 kB)\n",
      "\u001b[2K   \u001b[90m━━━━━━━━━━━━━━━━━━━━━━━━━━━━━━━━━━━━━━━━\u001b[0m \u001b[32m536.2/536.2 kB\u001b[0m \u001b[31m7.2 MB/s\u001b[0m eta \u001b[36m0:00:00\u001b[0m\n",
      "\u001b[?25hDownloading networkx-2.8.8-py3-none-any.whl (2.0 MB)\n",
      "\u001b[2K   \u001b[90m━━━━━━━━━━━━━━━━━━━━━━━━━━━━━━━━━━━━━━━━\u001b[0m \u001b[32m2.0/2.0 MB\u001b[0m \u001b[31m27.8 MB/s\u001b[0m eta \u001b[36m0:00:00\u001b[0m\n",
      "\u001b[?25hUsing cached sortedcontainers-2.4.0-py2.py3-none-any.whl (29 kB)\n",
      "Downloading pandas-2.0.3-cp38-cp38-manylinux_2_17_x86_64.manylinux2014_x86_64.whl (12.4 MB)\n",
      "\u001b[2K   \u001b[90m━━━━━━━━━━━━━━━━━━━━━━━━━━━━━━━━━━━━━━━━\u001b[0m \u001b[32m12.4/12.4 MB\u001b[0m \u001b[31m55.2 MB/s\u001b[0m eta \u001b[36m0:00:00\u001b[0m:00:01\u001b[0m\n",
      "\u001b[?25hDownloading pytz-2024.2-py2.py3-none-any.whl (508 kB)\n",
      "Downloading scipy-1.10.1-cp38-cp38-manylinux_2_17_x86_64.manylinux2014_x86_64.whl (34.5 MB)\n",
      "\u001b[2K   \u001b[90m━━━━━━━━━━━━━━━━━━━━━━━━━━━━━━━━━━━━━━━━\u001b[0m \u001b[32m34.5/34.5 MB\u001b[0m \u001b[31m49.8 MB/s\u001b[0m eta \u001b[36m0:00:00\u001b[0m00:01\u001b[0m00:01\u001b[0m\n",
      "\u001b[?25hUsing cached tqdm-4.66.5-py3-none-any.whl (78 kB)\n",
      "Downloading contourpy-1.1.1-cp38-cp38-manylinux_2_17_x86_64.manylinux2014_x86_64.whl (301 kB)\n",
      "Downloading cycler-0.12.1-py3-none-any.whl (8.3 kB)\n",
      "Downloading fonttools-4.54.1-cp38-cp38-manylinux_2_17_x86_64.manylinux2014_x86_64.whl (4.7 MB)\n",
      "\u001b[2K   \u001b[90m━━━━━━━━━━━━━━━━━━━━━━━━━━━━━━━━━━━━━━━━\u001b[0m \u001b[32m4.7/4.7 MB\u001b[0m \u001b[31m37.8 MB/s\u001b[0m eta \u001b[36m0:00:00\u001b[0m\n",
      "\u001b[?25hDownloading importlib_resources-6.4.5-py3-none-any.whl (36 kB)\n",
      "Downloading kiwisolver-1.4.7-cp38-cp38-manylinux_2_5_x86_64.manylinux1_x86_64.whl (1.2 MB)\n",
      "\u001b[2K   \u001b[90m━━━━━━━━━━━━━━━━━━━━━━━━━━━━━━━━━━━━━━━━\u001b[0m \u001b[32m1.2/1.2 MB\u001b[0m \u001b[31m20.0 MB/s\u001b[0m eta \u001b[36m0:00:00\u001b[0m\n",
      "\u001b[?25hDownloading pillow-10.4.0-cp38-cp38-manylinux_2_28_x86_64.whl (4.5 MB)\n",
      "\u001b[2K   \u001b[90m━━━━━━━━━━━━━━━━━━━━━━━━━━━━━━━━━━━━━━━━\u001b[0m \u001b[32m4.5/4.5 MB\u001b[0m \u001b[31m38.3 MB/s\u001b[0m eta \u001b[36m0:00:00\u001b[0m\n",
      "\u001b[?25hDownloading pyparsing-3.1.4-py3-none-any.whl (104 kB)\n",
      "Downloading tzdata-2024.2-py2.py3-none-any.whl (346 kB)\n",
      "Installing collected packages: sortedcontainers, pytz, mpmath, tzdata, tqdm, sympy, scipy, pyparsing, protobuf, pillow, networkx, kiwisolver, importlib-resources, fonttools, duet, cycler, contourpy, cachetools, pandas, matplotlib, googleapis-common-protos, google-auth, google-api-core, cirq-core, cirq-google, tensorflow-quantum\n",
      "  Attempting uninstall: protobuf\n",
      "    Found existing installation: protobuf 5.28.2\n",
      "    Uninstalling protobuf-5.28.2:\n",
      "      Successfully uninstalled protobuf-5.28.2\n",
      "  Attempting uninstall: cachetools\n",
      "    Found existing installation: cachetools 5.5.0\n",
      "    Uninstalling cachetools-5.5.0:\n",
      "      Successfully uninstalled cachetools-5.5.0\n",
      "  Attempting uninstall: google-auth\n",
      "    Found existing installation: google-auth 2.35.0\n",
      "    Uninstalling google-auth-2.35.0:\n",
      "      Successfully uninstalled google-auth-2.35.0\n",
      "Successfully installed cachetools-4.2.4 cirq-core-0.13.1 cirq-google-0.13.1 contourpy-1.1.1 cycler-0.12.1 duet-0.2.8 fonttools-4.54.1 google-api-core-1.21.0 google-auth-1.18.0 googleapis-common-protos-1.52.0 importlib-resources-6.4.5 kiwisolver-1.4.7 matplotlib-3.7.5 mpmath-1.3.0 networkx-2.8.8 pandas-2.0.3 pillow-10.4.0 protobuf-3.17.3 pyparsing-3.1.4 pytz-2024.2 scipy-1.10.1 sortedcontainers-2.4.0 sympy-1.8 tensorflow-quantum-0.7.2 tqdm-4.66.5 tzdata-2024.2\n",
      "Note: you may need to restart the kernel to use updated packages.\n"
     ]
    }
   ],
   "source": [
    "%pip install tensorflow-quantum==0.7.2"
   ]
  },
  {
   "cell_type": "code",
   "execution_count": 4,
   "metadata": {},
   "outputs": [
    {
     "name": "stdout",
     "output_type": "stream",
     "text": [
      "Collecting cirq\n",
      "  Downloading cirq-1.1.0-py3-none-any.whl.metadata (7.6 kB)\n",
      "Collecting cirq-aqt==1.1.0 (from cirq)\n",
      "  Downloading cirq_aqt-1.1.0-py3-none-any.whl.metadata (1.6 kB)\n",
      "Collecting cirq-core==1.1.0 (from cirq)\n",
      "  Downloading cirq_core-1.1.0-py3-none-any.whl.metadata (2.0 kB)\n",
      "Collecting cirq-google==1.1.0 (from cirq)\n",
      "  Using cached cirq_google-1.1.0-py3-none-any.whl.metadata (2.0 kB)\n",
      "Collecting cirq-ionq==1.1.0 (from cirq)\n",
      "  Downloading cirq_ionq-1.1.0-py3-none-any.whl.metadata (1.6 kB)\n",
      "Collecting cirq-pasqal==1.1.0 (from cirq)\n",
      "  Downloading cirq_pasqal-1.1.0-py3-none-any.whl.metadata (1.6 kB)\n",
      "Collecting cirq-rigetti==1.1.0 (from cirq)\n",
      "  Downloading cirq_rigetti-1.1.0-py3-none-any.whl.metadata (1.7 kB)\n",
      "Collecting cirq-web==1.1.0 (from cirq)\n",
      "  Downloading cirq_web-1.1.0-py3-none-any.whl.metadata (2.6 kB)\n",
      "Requirement already satisfied: requests~=2.18 in ./.venv/lib/python3.8/site-packages (from cirq-aqt==1.1.0->cirq) (2.32.3)\n",
      "Requirement already satisfied: duet~=0.2.7 in ./.venv/lib/python3.8/site-packages (from cirq-core==1.1.0->cirq) (0.2.8)\n",
      "Requirement already satisfied: matplotlib~=3.0 in ./.venv/lib/python3.8/site-packages (from cirq-core==1.1.0->cirq) (3.7.5)\n",
      "Requirement already satisfied: networkx~=2.4 in ./.venv/lib/python3.8/site-packages (from cirq-core==1.1.0->cirq) (2.8.8)\n",
      "Collecting numpy<1.24,>=1.16 (from cirq-core==1.1.0->cirq)\n",
      "  Downloading numpy-1.23.5-cp38-cp38-manylinux_2_17_x86_64.manylinux2014_x86_64.whl.metadata (2.3 kB)\n",
      "Requirement already satisfied: pandas in ./.venv/lib/python3.8/site-packages (from cirq-core==1.1.0->cirq) (2.0.3)\n",
      "Requirement already satisfied: sortedcontainers~=2.0 in ./.venv/lib/python3.8/site-packages (from cirq-core==1.1.0->cirq) (2.4.0)\n",
      "Requirement already satisfied: scipy in ./.venv/lib/python3.8/site-packages (from cirq-core==1.1.0->cirq) (1.10.1)\n",
      "Requirement already satisfied: sympy in ./.venv/lib/python3.8/site-packages (from cirq-core==1.1.0->cirq) (1.8)\n",
      "Requirement already satisfied: typing-extensions in ./.venv/lib/python3.8/site-packages (from cirq-core==1.1.0->cirq) (4.12.2)\n",
      "Requirement already satisfied: tqdm in ./.venv/lib/python3.8/site-packages (from cirq-core==1.1.0->cirq) (4.66.5)\n",
      "Requirement already satisfied: google-api-core<2.0.0dev,>=1.14.0 in ./.venv/lib/python3.8/site-packages (from google-api-core[grpc]<2.0.0dev,>=1.14.0->cirq-google==1.1.0->cirq) (1.21.0)\n",
      "Collecting proto-plus>=1.20.0 (from cirq-google==1.1.0->cirq)\n",
      "  Using cached proto_plus-1.24.0-py3-none-any.whl.metadata (2.2 kB)\n",
      "Requirement already satisfied: protobuf<4,>=3.15.0 in ./.venv/lib/python3.8/site-packages (from cirq-google==1.1.0->cirq) (3.17.3)\n",
      "Collecting pyquil>=3.2.0 (from cirq-rigetti==1.1.0->cirq)\n",
      "  Downloading pyquil-4.10.1-py3-none-any.whl.metadata (11 kB)\n",
      "Requirement already satisfied: googleapis-common-protos<2.0dev,>=1.6.0 in ./.venv/lib/python3.8/site-packages (from google-api-core<2.0.0dev,>=1.14.0->google-api-core[grpc]<2.0.0dev,>=1.14.0->cirq-google==1.1.0->cirq) (1.52.0)\n",
      "Requirement already satisfied: google-auth<2.0dev,>=1.18.0 in ./.venv/lib/python3.8/site-packages (from google-api-core<2.0.0dev,>=1.14.0->google-api-core[grpc]<2.0.0dev,>=1.14.0->cirq-google==1.1.0->cirq) (1.18.0)\n",
      "Requirement already satisfied: setuptools>=34.0.0 in ./.venv/lib/python3.8/site-packages (from google-api-core<2.0.0dev,>=1.14.0->google-api-core[grpc]<2.0.0dev,>=1.14.0->cirq-google==1.1.0->cirq) (75.1.0)\n",
      "Requirement already satisfied: six>=1.10.0 in ./.venv/lib/python3.8/site-packages (from google-api-core<2.0.0dev,>=1.14.0->google-api-core[grpc]<2.0.0dev,>=1.14.0->cirq-google==1.1.0->cirq) (1.16.0)\n",
      "Requirement already satisfied: pytz in ./.venv/lib/python3.8/site-packages (from google-api-core<2.0.0dev,>=1.14.0->google-api-core[grpc]<2.0.0dev,>=1.14.0->cirq-google==1.1.0->cirq) (2024.2)\n",
      "Requirement already satisfied: grpcio<2.0dev,>=1.29.0 in ./.venv/lib/python3.8/site-packages (from google-api-core[grpc]<2.0.0dev,>=1.14.0->cirq-google==1.1.0->cirq) (1.66.2)\n",
      "Requirement already satisfied: contourpy>=1.0.1 in ./.venv/lib/python3.8/site-packages (from matplotlib~=3.0->cirq-core==1.1.0->cirq) (1.1.1)\n",
      "Requirement already satisfied: cycler>=0.10 in ./.venv/lib/python3.8/site-packages (from matplotlib~=3.0->cirq-core==1.1.0->cirq) (0.12.1)\n",
      "Requirement already satisfied: fonttools>=4.22.0 in ./.venv/lib/python3.8/site-packages (from matplotlib~=3.0->cirq-core==1.1.0->cirq) (4.54.1)\n",
      "Requirement already satisfied: kiwisolver>=1.0.1 in ./.venv/lib/python3.8/site-packages (from matplotlib~=3.0->cirq-core==1.1.0->cirq) (1.4.7)\n",
      "Requirement already satisfied: packaging>=20.0 in ./.venv/lib/python3.8/site-packages (from matplotlib~=3.0->cirq-core==1.1.0->cirq) (24.1)\n",
      "Requirement already satisfied: pillow>=6.2.0 in ./.venv/lib/python3.8/site-packages (from matplotlib~=3.0->cirq-core==1.1.0->cirq) (10.4.0)\n",
      "Requirement already satisfied: pyparsing>=2.3.1 in ./.venv/lib/python3.8/site-packages (from matplotlib~=3.0->cirq-core==1.1.0->cirq) (3.1.4)\n",
      "Requirement already satisfied: python-dateutil>=2.7 in ./.venv/lib/python3.8/site-packages (from matplotlib~=3.0->cirq-core==1.1.0->cirq) (2.9.0.post0)\n",
      "Requirement already satisfied: importlib-resources>=3.2.0 in ./.venv/lib/python3.8/site-packages (from matplotlib~=3.0->cirq-core==1.1.0->cirq) (6.4.5)\n",
      "Collecting protobuf<4,>=3.15.0 (from cirq-google==1.1.0->cirq)\n",
      "  Downloading protobuf-3.20.3-cp38-cp38-manylinux_2_5_x86_64.manylinux1_x86_64.whl.metadata (679 bytes)\n",
      "Collecting deprecated<2.0.0,>=1.2.13 (from pyquil>=3.2.0->cirq-rigetti==1.1.0->cirq)\n",
      "  Using cached Deprecated-1.2.14-py2.py3-none-any.whl.metadata (5.4 kB)\n",
      "Collecting lark<0.12.0,>=0.11.1 (from pyquil>=3.2.0->cirq-rigetti==1.1.0->cirq)\n",
      "  Downloading lark-0.11.3.tar.gz (229 kB)\n",
      "  Preparing metadata (setup.py) ... \u001b[?25ldone\n",
      "\u001b[?25hRequirement already satisfied: matplotlib-inline<0.2.0,>=0.1.6 in ./.venv/lib/python3.8/site-packages (from pyquil>=3.2.0->cirq-rigetti==1.1.0->cirq) (0.1.7)\n",
      "Collecting packaging>=20.0 (from matplotlib~=3.0->cirq-core==1.1.0->cirq)\n",
      "  Using cached packaging-23.2-py3-none-any.whl.metadata (3.2 kB)\n",
      "Collecting qcs-sdk-python==0.17.9 (from pyquil>=3.2.0->cirq-rigetti==1.1.0->cirq)\n",
      "  Downloading qcs_sdk_python-0.17.9-cp38-cp38-manylinux_2_28_x86_64.whl.metadata (4.5 kB)\n",
      "Collecting rpcq<4.0.0,>=3.10.0 (from pyquil>=3.2.0->cirq-rigetti==1.1.0->cirq)\n",
      "  Using cached rpcq-3.11.0.tar.gz (45 kB)\n",
      "  Preparing metadata (setup.py) ... \u001b[?25ldone\n",
      "\u001b[?25hCollecting tenacity<9.0.0,>=8.2.2 (from pyquil>=3.2.0->cirq-rigetti==1.1.0->cirq)\n",
      "  Downloading tenacity-8.5.0-py3-none-any.whl.metadata (1.2 kB)\n",
      "Collecting types-deprecated<2.0.0.0,>=1.2.9.2 (from pyquil>=3.2.0->cirq-rigetti==1.1.0->cirq)\n",
      "  Using cached types_Deprecated-1.2.9.20240311-py3-none-any.whl.metadata (1.6 kB)\n",
      "Collecting types-python-dateutil<3.0.0,>=2.8.19 (from pyquil>=3.2.0->cirq-rigetti==1.1.0->cirq)\n",
      "  Downloading types_python_dateutil-2.9.0.20240906-py3-none-any.whl.metadata (1.9 kB)\n",
      "Collecting types-retry<0.10.0,>=0.9.9 (from pyquil>=3.2.0->cirq-rigetti==1.1.0->cirq)\n",
      "  Downloading types_retry-0.9.9.4-py3-none-any.whl.metadata (1.4 kB)\n",
      "Collecting quil==0.10.0 (from qcs-sdk-python==0.17.9->pyquil>=3.2.0->cirq-rigetti==1.1.0->cirq)\n",
      "  Downloading quil-0.10.0-cp38-cp38-manylinux_2_17_x86_64.manylinux2014_x86_64.whl.metadata (1.5 kB)\n",
      "Requirement already satisfied: charset-normalizer<4,>=2 in ./.venv/lib/python3.8/site-packages (from requests~=2.18->cirq-aqt==1.1.0->cirq) (3.3.2)\n",
      "Requirement already satisfied: idna<4,>=2.5 in ./.venv/lib/python3.8/site-packages (from requests~=2.18->cirq-aqt==1.1.0->cirq) (3.10)\n",
      "Requirement already satisfied: urllib3<3,>=1.21.1 in ./.venv/lib/python3.8/site-packages (from requests~=2.18->cirq-aqt==1.1.0->cirq) (2.2.3)\n",
      "Requirement already satisfied: certifi>=2017.4.17 in ./.venv/lib/python3.8/site-packages (from requests~=2.18->cirq-aqt==1.1.0->cirq) (2024.8.30)\n",
      "Requirement already satisfied: tzdata>=2022.1 in ./.venv/lib/python3.8/site-packages (from pandas->cirq-core==1.1.0->cirq) (2024.2)\n",
      "Requirement already satisfied: mpmath>=0.19 in ./.venv/lib/python3.8/site-packages (from sympy->cirq-core==1.1.0->cirq) (1.3.0)\n",
      "Requirement already satisfied: wrapt<2,>=1.10 in ./.venv/lib/python3.8/site-packages (from deprecated<2.0.0,>=1.2.13->pyquil>=3.2.0->cirq-rigetti==1.1.0->cirq) (1.16.0)\n",
      "Requirement already satisfied: cachetools<5.0,>=2.0.0 in ./.venv/lib/python3.8/site-packages (from google-auth<2.0dev,>=1.18.0->google-api-core<2.0.0dev,>=1.14.0->google-api-core[grpc]<2.0.0dev,>=1.14.0->cirq-google==1.1.0->cirq) (4.2.4)\n",
      "Requirement already satisfied: pyasn1-modules>=0.2.1 in ./.venv/lib/python3.8/site-packages (from google-auth<2.0dev,>=1.18.0->google-api-core<2.0.0dev,>=1.14.0->google-api-core[grpc]<2.0.0dev,>=1.14.0->cirq-google==1.1.0->cirq) (0.4.1)\n",
      "Requirement already satisfied: rsa<5,>=3.1.4 in ./.venv/lib/python3.8/site-packages (from google-auth<2.0dev,>=1.18.0->google-api-core<2.0.0dev,>=1.14.0->google-api-core[grpc]<2.0.0dev,>=1.14.0->cirq-google==1.1.0->cirq) (4.9)\n",
      "Requirement already satisfied: zipp>=3.1.0 in ./.venv/lib/python3.8/site-packages (from importlib-resources>=3.2.0->matplotlib~=3.0->cirq-core==1.1.0->cirq) (3.20.2)\n",
      "Requirement already satisfied: traitlets in ./.venv/lib/python3.8/site-packages (from matplotlib-inline<0.2.0,>=0.1.6->pyquil>=3.2.0->cirq-rigetti==1.1.0->cirq) (5.14.3)\n",
      "Collecting msgpack<2.0,>=0.6 (from rpcq<4.0.0,>=3.10.0->pyquil>=3.2.0->cirq-rigetti==1.1.0->cirq)\n",
      "  Downloading msgpack-1.1.0-cp38-cp38-manylinux_2_17_x86_64.manylinux2014_x86_64.whl.metadata (8.4 kB)\n",
      "Collecting python-rapidjson (from rpcq<4.0.0,>=3.10.0->pyquil>=3.2.0->cirq-rigetti==1.1.0->cirq)\n",
      "  Downloading python_rapidjson-1.20-cp38-cp38-manylinux_2_17_x86_64.manylinux2014_x86_64.whl.metadata (22 kB)\n",
      "Requirement already satisfied: pyzmq>=17 in ./.venv/lib/python3.8/site-packages (from rpcq<4.0.0,>=3.10.0->pyquil>=3.2.0->cirq-rigetti==1.1.0->cirq) (26.2.0)\n",
      "Collecting ruamel.yaml (from rpcq<4.0.0,>=3.10.0->pyquil>=3.2.0->cirq-rigetti==1.1.0->cirq)\n",
      "  Using cached ruamel.yaml-0.18.6-py3-none-any.whl.metadata (23 kB)\n",
      "Requirement already satisfied: pyasn1<0.7.0,>=0.4.6 in ./.venv/lib/python3.8/site-packages (from pyasn1-modules>=0.2.1->google-auth<2.0dev,>=1.18.0->google-api-core<2.0.0dev,>=1.14.0->google-api-core[grpc]<2.0.0dev,>=1.14.0->cirq-google==1.1.0->cirq) (0.6.1)\n",
      "Collecting ruamel.yaml.clib>=0.2.7 (from ruamel.yaml->rpcq<4.0.0,>=3.10.0->pyquil>=3.2.0->cirq-rigetti==1.1.0->cirq)\n",
      "  Downloading ruamel.yaml.clib-0.2.8-cp38-cp38-manylinux_2_5_x86_64.manylinux1_x86_64.whl.metadata (2.2 kB)\n",
      "Downloading cirq-1.1.0-py3-none-any.whl (7.7 kB)\n",
      "Downloading cirq_aqt-1.1.0-py3-none-any.whl (27 kB)\n",
      "Downloading cirq_core-1.1.0-py3-none-any.whl (1.8 MB)\n",
      "\u001b[2K   \u001b[90m━━━━━━━━━━━━━━━━━━━━━━━━━━━━━━━━━━━━━━━━\u001b[0m \u001b[32m1.8/1.8 MB\u001b[0m \u001b[31m10.1 MB/s\u001b[0m eta \u001b[36m0:00:00\u001b[0m\n",
      "\u001b[?25hDownloading cirq_google-1.1.0-py3-none-any.whl (577 kB)\n",
      "\u001b[2K   \u001b[90m━━━━━━━━━━━━━━━━━━━━━━━━━━━━━━━━━━━━━━━━\u001b[0m \u001b[32m577.4/577.4 kB\u001b[0m \u001b[31m8.2 MB/s\u001b[0m eta \u001b[36m0:00:00\u001b[0m\n",
      "\u001b[?25hDownloading cirq_ionq-1.1.0-py3-none-any.whl (57 kB)\n",
      "Downloading cirq_pasqal-1.1.0-py3-none-any.whl (31 kB)\n",
      "Downloading cirq_rigetti-1.1.0-py3-none-any.whl (66 kB)\n",
      "Downloading cirq_web-1.1.0-py3-none-any.whl (594 kB)\n",
      "\u001b[2K   \u001b[90m━━━━━━━━━━━━━━━━━━━━━━━━━━━━━━━━━━━━━━━━\u001b[0m \u001b[32m594.6/594.6 kB\u001b[0m \u001b[31m8.8 MB/s\u001b[0m eta \u001b[36m0:00:00\u001b[0m\n",
      "\u001b[?25hDownloading numpy-1.23.5-cp38-cp38-manylinux_2_17_x86_64.manylinux2014_x86_64.whl (17.1 MB)\n",
      "\u001b[2K   \u001b[90m━━━━━━━━━━━━━━━━━━━━━━━━━━━━━━━━━━━━━━━━\u001b[0m \u001b[32m17.1/17.1 MB\u001b[0m \u001b[31m48.1 MB/s\u001b[0m eta \u001b[36m0:00:00\u001b[0ma \u001b[36m0:00:01\u001b[0m\n",
      "\u001b[?25hUsing cached proto_plus-1.24.0-py3-none-any.whl (50 kB)\n",
      "Downloading protobuf-3.20.3-cp38-cp38-manylinux_2_5_x86_64.manylinux1_x86_64.whl (1.0 MB)\n",
      "\u001b[2K   \u001b[90m━━━━━━━━━━━━━━━━━━━━━━━━━━━━━━━━━━━━━━━━\u001b[0m \u001b[32m1.0/1.0 MB\u001b[0m \u001b[31m18.7 MB/s\u001b[0m eta \u001b[36m0:00:00\u001b[0m\n",
      "\u001b[?25hDownloading pyquil-4.10.1-py3-none-any.whl (201 kB)\n",
      "Downloading qcs_sdk_python-0.17.9-cp38-cp38-manylinux_2_28_x86_64.whl (5.5 MB)\n",
      "\u001b[2K   \u001b[90m━━━━━━━━━━━━━━━━━━━━━━━━━━━━━━━━━━━━━━━━\u001b[0m \u001b[32m5.5/5.5 MB\u001b[0m \u001b[31m2.7 MB/s\u001b[0m eta \u001b[36m0:00:00\u001b[0ma \u001b[36m0:00:01\u001b[0m0m\n",
      "\u001b[?25hDownloading quil-0.10.0-cp38-cp38-manylinux_2_17_x86_64.manylinux2014_x86_64.whl (2.4 MB)\n",
      "\u001b[2K   \u001b[90m━━━━━━━━━━━━━━━━━━━━━━━━━━━━━━━━━━━━━━━━\u001b[0m \u001b[32m2.4/2.4 MB\u001b[0m \u001b[31m3.2 MB/s\u001b[0m eta \u001b[36m0:00:00\u001b[0ma \u001b[36m0:00:01\u001b[0mm\n",
      "\u001b[?25hUsing cached Deprecated-1.2.14-py2.py3-none-any.whl (9.6 kB)\n",
      "Using cached packaging-23.2-py3-none-any.whl (53 kB)\n",
      "Downloading tenacity-8.5.0-py3-none-any.whl (28 kB)\n",
      "Downloading types_Deprecated-1.2.9.20240311-py3-none-any.whl (3.5 kB)\n",
      "Downloading types_python_dateutil-2.9.0.20240906-py3-none-any.whl (9.7 kB)\n",
      "Downloading types_retry-0.9.9.4-py3-none-any.whl (2.5 kB)\n",
      "Downloading msgpack-1.1.0-cp38-cp38-manylinux_2_17_x86_64.manylinux2014_x86_64.whl (381 kB)\n",
      "Downloading python_rapidjson-1.20-cp38-cp38-manylinux_2_17_x86_64.manylinux2014_x86_64.whl (1.7 MB)\n",
      "\u001b[2K   \u001b[90m━━━━━━━━━━━━━━━━━━━━━━━━━━━━━━━━━━━━━━━━\u001b[0m \u001b[32m1.7/1.7 MB\u001b[0m \u001b[31m28.3 MB/s\u001b[0m eta \u001b[36m0:00:00\u001b[0m\n",
      "\u001b[?25hDownloading ruamel.yaml-0.18.6-py3-none-any.whl (117 kB)\n",
      "Downloading ruamel.yaml.clib-0.2.8-cp38-cp38-manylinux_2_5_x86_64.manylinux1_x86_64.whl (596 kB)\n",
      "\u001b[2K   \u001b[90m━━━━━━━━━━━━━━━━━━━━━━━━━━━━━━━━━━━━━━━━\u001b[0m \u001b[32m596.0/596.0 kB\u001b[0m \u001b[31m9.4 MB/s\u001b[0m eta \u001b[36m0:00:00\u001b[0m\n",
      "\u001b[?25hBuilding wheels for collected packages: lark, rpcq\n",
      "  Building wheel for lark (setup.py) ... \u001b[?25ldone\n",
      "\u001b[?25h  Created wheel for lark: filename=lark-0.11.3-py2.py3-none-any.whl size=99634 sha256=2d2720ef1b80ee65751915154a6122496c2ebc1178e77b41ef6f189643558d63\n",
      "  Stored in directory: /home/codespace/.cache/pip/wheels/34/cb/6c/4df359c2a3f0a1af4cccae6392bee423bb5aff530103de3538\n",
      "  Building wheel for rpcq (setup.py) ... \u001b[?25ldone\n",
      "\u001b[?25h  Created wheel for rpcq: filename=rpcq-3.11.0-py3-none-any.whl size=45967 sha256=91c3d1d5594d85865199e2482d702fb3faf0c25a619a4a2a892a7f366a185fdc\n",
      "  Stored in directory: /home/codespace/.cache/pip/wheels/6c/f7/b7/2c51d76880beccda74d7991691d903513296b866a3e7bb864b\n",
      "Successfully built lark rpcq\n",
      "Installing collected packages: types-retry, lark, types-python-dateutil, types-deprecated, tenacity, ruamel.yaml.clib, quil, python-rapidjson, protobuf, packaging, numpy, msgpack, deprecated, ruamel.yaml, qcs-sdk-python, proto-plus, rpcq, pyquil, cirq-core, cirq-web, cirq-rigetti, cirq-pasqal, cirq-ionq, cirq-google, cirq-aqt, cirq\n",
      "  Attempting uninstall: protobuf\n",
      "    Found existing installation: protobuf 3.17.3\n",
      "    Uninstalling protobuf-3.17.3:\n",
      "      Successfully uninstalled protobuf-3.17.3\n",
      "  Attempting uninstall: packaging\n",
      "    Found existing installation: packaging 24.1\n",
      "    Uninstalling packaging-24.1:\n",
      "      Successfully uninstalled packaging-24.1\n",
      "  Attempting uninstall: numpy\n",
      "    Found existing installation: numpy 1.24.4\n",
      "    Uninstalling numpy-1.24.4:\n",
      "      Successfully uninstalled numpy-1.24.4\n",
      "  Attempting uninstall: cirq-core\n",
      "    Found existing installation: cirq-core 0.13.1\n",
      "    Uninstalling cirq-core-0.13.1:\n",
      "      Successfully uninstalled cirq-core-0.13.1\n",
      "  Attempting uninstall: cirq-google\n",
      "    Found existing installation: cirq-google 0.13.1\n",
      "    Uninstalling cirq-google-0.13.1:\n",
      "      Successfully uninstalled cirq-google-0.13.1\n",
      "\u001b[31mERROR: pip's dependency resolver does not currently take into account all the packages that are installed. This behaviour is the source of the following dependency conflicts.\n",
      "tensorflow-quantum 0.7.2 requires cirq-core==0.13.1, but you have cirq-core 1.1.0 which is incompatible.\n",
      "tensorflow-quantum 0.7.2 requires protobuf==3.17.3, but you have protobuf 3.20.3 which is incompatible.\u001b[0m\u001b[31m\n",
      "\u001b[0mSuccessfully installed cirq-1.1.0 cirq-aqt-1.1.0 cirq-core-1.1.0 cirq-google-1.1.0 cirq-ionq-1.1.0 cirq-pasqal-1.1.0 cirq-rigetti-1.1.0 cirq-web-1.1.0 deprecated-1.2.14 lark-0.11.3 msgpack-1.1.0 numpy-1.23.5 packaging-23.2 proto-plus-1.24.0 protobuf-3.20.3 pyquil-4.10.1 python-rapidjson-1.20 qcs-sdk-python-0.17.9 quil-0.10.0 rpcq-3.11.0 ruamel.yaml-0.18.6 ruamel.yaml.clib-0.2.8 tenacity-8.5.0 types-deprecated-1.2.9.20240311 types-python-dateutil-2.9.0.20240906 types-retry-0.9.9.4\n",
      "Note: you may need to restart the kernel to use updated packages.\n"
     ]
    }
   ],
   "source": [
    "%pip install cirq"
   ]
  },
  {
   "cell_type": "code",
   "execution_count": 5,
   "metadata": {},
   "outputs": [
    {
     "name": "stderr",
     "output_type": "stream",
     "text": [
      "2024-10-01 10:07:35.476967: W tensorflow/stream_executor/platform/default/dso_loader.cc:64] Could not load dynamic library 'libcudart.so.11.0'; dlerror: libcudart.so.11.0: cannot open shared object file: No such file or directory\n",
      "2024-10-01 10:07:35.476997: I tensorflow/stream_executor/cuda/cudart_stub.cc:29] Ignore above cudart dlerror if you do not have a GPU set up on your machine.\n"
     ]
    },
    {
     "ename": "ModuleNotFoundError",
     "evalue": "No module named 'sklearn'",
     "output_type": "error",
     "traceback": [
      "\u001b[0;31m---------------------------------------------------------------------------\u001b[0m",
      "\u001b[0;31mModuleNotFoundError\u001b[0m                       Traceback (most recent call last)",
      "Cell \u001b[0;32mIn[5], line 5\u001b[0m\n\u001b[1;32m      3\u001b[0m \u001b[38;5;66;03m# Data Processing tools\u001b[39;00m\n\u001b[1;32m      4\u001b[0m \u001b[38;5;28;01mimport\u001b[39;00m \u001b[38;5;21;01mnumpy\u001b[39;00m \u001b[38;5;28;01mas\u001b[39;00m \u001b[38;5;21;01mnp\u001b[39;00m\n\u001b[0;32m----> 5\u001b[0m \u001b[38;5;28;01mfrom\u001b[39;00m \u001b[38;5;21;01msklearn\u001b[39;00m\u001b[38;5;21;01m.\u001b[39;00m\u001b[38;5;21;01mmodel_selection\u001b[39;00m \u001b[38;5;28;01mimport\u001b[39;00m train_test_split \n\u001b[1;32m      7\u001b[0m \u001b[38;5;66;03m# QML tools\u001b[39;00m\n\u001b[1;32m      8\u001b[0m \u001b[38;5;28;01mimport\u001b[39;00m \u001b[38;5;21;01mtensorflow_quantum\u001b[39;00m \u001b[38;5;28;01mas\u001b[39;00m \u001b[38;5;21;01mtfq\u001b[39;00m\n",
      "\u001b[0;31mModuleNotFoundError\u001b[0m: No module named 'sklearn'"
     ]
    }
   ],
   "source": [
    "import tensorflow as tf\n",
    "\n",
    "# Data Processing tools\n",
    "import numpy as np\n",
    "from sklearn.model_selection import train_test_split \n",
    "\n",
    "# QML tools\n",
    "import tensorflow_quantum as tfq\n",
    "import cirq\n",
    "import sympy\n",
    "\n",
    "# Visualization Tools\n",
    "from cirq.contrib.svg import SVGCircuit\n",
    "import matplotlib.pyplot as plt"
   ]
  },
  {
   "cell_type": "code",
   "execution_count": 6,
   "metadata": {},
   "outputs": [
    {
     "name": "stdout",
     "output_type": "stream",
     "text": [
      "Collecting scikit-learn\n",
      "  Downloading scikit_learn-1.3.2-cp38-cp38-manylinux_2_17_x86_64.manylinux2014_x86_64.whl.metadata (11 kB)\n",
      "Requirement already satisfied: numpy<2.0,>=1.17.3 in ./.venv/lib/python3.8/site-packages (from scikit-learn) (1.23.5)\n",
      "Requirement already satisfied: scipy>=1.5.0 in ./.venv/lib/python3.8/site-packages (from scikit-learn) (1.10.1)\n",
      "Collecting joblib>=1.1.1 (from scikit-learn)\n",
      "  Downloading joblib-1.4.2-py3-none-any.whl.metadata (5.4 kB)\n",
      "Collecting threadpoolctl>=2.0.0 (from scikit-learn)\n",
      "  Downloading threadpoolctl-3.5.0-py3-none-any.whl.metadata (13 kB)\n",
      "Downloading scikit_learn-1.3.2-cp38-cp38-manylinux_2_17_x86_64.manylinux2014_x86_64.whl (11.1 MB)\n",
      "\u001b[2K   \u001b[90m━━━━━━━━━━━━━━━━━━━━━━━━━━━━━━━━━━━━━━━━\u001b[0m \u001b[32m11.1/11.1 MB\u001b[0m \u001b[31m30.5 MB/s\u001b[0m eta \u001b[36m0:00:00\u001b[0m00:01\u001b[0m:02\u001b[0m\n",
      "\u001b[?25hDownloading joblib-1.4.2-py3-none-any.whl (301 kB)\n",
      "Downloading threadpoolctl-3.5.0-py3-none-any.whl (18 kB)\n",
      "Installing collected packages: threadpoolctl, joblib, scikit-learn\n",
      "Successfully installed joblib-1.4.2 scikit-learn-1.3.2 threadpoolctl-3.5.0\n",
      "Note: you may need to restart the kernel to use updated packages.\n"
     ]
    }
   ],
   "source": [
    "%pip install scikit-learn"
   ]
  },
  {
   "cell_type": "code",
   "execution_count": 7,
   "metadata": {},
   "outputs": [
    {
     "name": "stderr",
     "output_type": "stream",
     "text": [
      "2024-10-01 10:08:24.810724: W tensorflow/stream_executor/platform/default/dso_loader.cc:64] Could not load dynamic library 'libcuda.so.1'; dlerror: libcuda.so.1: cannot open shared object file: No such file or directory\n",
      "2024-10-01 10:08:24.810762: W tensorflow/stream_executor/cuda/cuda_driver.cc:269] failed call to cuInit: UNKNOWN ERROR (303)\n",
      "2024-10-01 10:08:24.810787: I tensorflow/stream_executor/cuda/cuda_diagnostics.cc:156] kernel driver does not appear to be running on this host (codespaces-c010b2): /proc/driver/nvidia/version does not exist\n",
      "2024-10-01 10:08:24.811059: I tensorflow/core/platform/cpu_feature_guard.cc:151] This TensorFlow binary is optimized with oneAPI Deep Neural Network Library (oneDNN) to use the following CPU instructions in performance-critical operations:  AVX2 FMA\n",
      "To enable them in other operations, rebuild TensorFlow with the appropriate compiler flags.\n"
     ]
    }
   ],
   "source": [
    "import tensorflow as tf\n",
    "\n",
    "# Data Processing tools\n",
    "import numpy as np\n",
    "from sklearn.model_selection import train_test_split \n",
    "\n",
    "# QML tools\n",
    "import tensorflow_quantum as tfq\n",
    "import cirq\n",
    "import sympy\n",
    "\n",
    "# Visualization Tools\n",
    "from cirq.contrib.svg import SVGCircuit\n",
    "import matplotlib.pyplot as plt"
   ]
  },
  {
   "cell_type": "code",
   "execution_count": 8,
   "metadata": {},
   "outputs": [
    {
     "name": "stdout",
     "output_type": "stream",
     "text": [
      "We are using the TensorFlow-Quantum version 0.7.2\n",
      "We are using the Cirq version 1.1.0\n"
     ]
    }
   ],
   "source": [
    "print(\"We are using the TensorFlow-Quantum version {}\".format(tfq.__version__))\n",
    "print(\"We are using the Cirq version {}\".format(cirq.__version__))"
   ]
  },
  {
   "cell_type": "code",
   "execution_count": 9,
   "metadata": {},
   "outputs": [],
   "source": [
    "#importing the Fashion MNIST dataset from keras\n",
    "from tensorflow.keras.datasets import fashion_mnist as dataset"
   ]
  },
  {
   "cell_type": "code",
   "execution_count": 10,
   "metadata": {},
   "outputs": [
    {
     "name": "stdout",
     "output_type": "stream",
     "text": [
      "Downloading data from https://storage.googleapis.com/tensorflow/tf-keras-datasets/train-labels-idx1-ubyte.gz\n",
      "32768/29515 [=================================] - 0s 0us/step\n",
      "40960/29515 [=========================================] - 0s 0us/step\n",
      "Downloading data from https://storage.googleapis.com/tensorflow/tf-keras-datasets/train-images-idx3-ubyte.gz\n",
      "26427392/26421880 [==============================] - 3s 0us/step\n",
      "26435584/26421880 [==============================] - 3s 0us/step\n",
      "Downloading data from https://storage.googleapis.com/tensorflow/tf-keras-datasets/t10k-labels-idx1-ubyte.gz\n",
      "16384/5148 [===============================================================================================] - 0s 0us/step\n",
      "Downloading data from https://storage.googleapis.com/tensorflow/tf-keras-datasets/t10k-images-idx3-ubyte.gz\n",
      "4423680/4422102 [==============================] - 0s 0us/step\n",
      "4431872/4422102 [==============================] - 0s 0us/step\n"
     ]
    }
   ],
   "source": [
    "(X_train, y_train), (X_test, y_test) = dataset.load_data()"
   ]
  },
  {
   "cell_type": "code",
   "execution_count": 11,
   "metadata": {},
   "outputs": [
    {
     "name": "stdout",
     "output_type": "stream",
     "text": [
      "The shape of the X_train is (60000, 28, 28)\n",
      "The shape of the y_train is (60000,)\n",
      "The shape of the X_test is (10000, 28, 28)\n",
      "The shape of the y_test is (10000,)\n"
     ]
    }
   ],
   "source": [
    "print(\"The shape of the X_train is {}\".format( X_train.shape))\n",
    "print(\"The shape of the y_train is {}\".format(y_train.shape))\n",
    "print(\"The shape of the X_test is {}\".format(X_test.shape))\n",
    "print(\"The shape of the y_test is {}\".format(y_test.shape))"
   ]
  },
  {
   "cell_type": "code",
   "execution_count": 12,
   "metadata": {},
   "outputs": [],
   "source": [
    "def filter_data(x, y):\n",
    "  \"\"\"\n",
    "  Helper Function to filter the dataset\n",
    "  \"\"\"\n",
    "  #filter the data using labels\n",
    "  keep = (y == 5) | (y == 9)\n",
    "  x, y = x[keep], y[keep]\n",
    "\n",
    "  # convert labels to boolean\n",
    "  # y = True if y==5\n",
    "  # y = False if y==9\n",
    "  y = y == 5\n",
    "  return x,y"
   ]
  },
  {
   "cell_type": "code",
   "execution_count": 13,
   "metadata": {},
   "outputs": [],
   "source": [
    "\n",
    "#Filter the train set\n",
    "X_train, y_train = filter_data(X_train, y_train)\n",
    "\n",
    "#Filter the test_set\n",
    "X_test, y_test = filter_data(X_test, y_test)"
   ]
  },
  {
   "cell_type": "code",
   "execution_count": 14,
   "metadata": {},
   "outputs": [
    {
     "name": "stdout",
     "output_type": "stream",
     "text": [
      "The shape of the X_train is (12000, 28, 28)\n",
      "The shape of the y_train is (12000,)\n",
      "The shape of the X_test is (2000, 28, 28)\n",
      "The shape of the y_test is (2000,)\n"
     ]
    }
   ],
   "source": [
    "# Let's have a look at the shapes of train and test data\n",
    "print(\"The shape of the X_train is {}\".format( X_train.shape))\n",
    "print(\"The shape of the y_train is {}\".format(y_train.shape))\n",
    "print(\"The shape of the X_test is {}\".format(X_test.shape))\n",
    "print(\"The shape of the y_test is {}\".format(y_test.shape))"
   ]
  },
  {
   "cell_type": "code",
   "execution_count": 15,
   "metadata": {},
   "outputs": [
    {
     "name": "stdout",
     "output_type": "stream",
     "text": [
      "The First Image has the label False\n"
     ]
    },
    {
     "data": {
      "image/png": "[encoded data removed]",
      "text/plain": [
       "<Figure size 640x480 with 2 Axes>"
      ]
     },
     "metadata": {},
     "output_type": "display_data"
    }
   ],
   "source": [
    "\n",
    "#Let's have a look at the first image from our X_train and the \n",
    "# corresponding label from y_train\n",
    "print(\"The First Image has the label {}\".format(y_train[0]))\n",
    "plt.imshow(X_train[0])\n",
    "plt.colorbar()\n",
    "plt.title('Visualization of the Dataset')\n",
    "plt.show()"
   ]
  },
  {
   "cell_type": "code",
   "execution_count": 16,
   "metadata": {},
   "outputs": [],
   "source": [
    "#Normalizing the train and test image data\n",
    "X_train = X_train/255.0\n",
    "X_test = X_test/ 255.0"
   ]
  },
  {
   "cell_type": "code",
   "execution_count": 17,
   "metadata": {},
   "outputs": [
    {
     "data": {
      "image/png": "[encoded data removed]",
      "text/plain": [
       "<Figure size 640x480 with 2 Axes>"
      ]
     },
     "metadata": {},
     "output_type": "display_data"
    }
   ],
   "source": [
    "#Let's again have a look at the first image from our X_train and\n",
    "#see if we have successfully normalized the datasets\n",
    "plt.imshow(X_train[0])\n",
    "plt.colorbar()\n",
    "plt.title('Visualization of the Dataset')\n",
    "plt.show()"
   ]
  },
  {
   "cell_type": "code",
   "execution_count": 18,
   "metadata": {},
   "outputs": [],
   "source": [
    "\n",
    "#Before proceeding, we need to reshape our images in the dataset\n",
    "X_train = X_train.reshape(X_train.shape[0], *(28,28,1))\n",
    "X_test = X_test.reshape(X_test.shape[0], *(28,28,1))"
   ]
  },
  {
   "cell_type": "code",
   "execution_count": 19,
   "metadata": {},
   "outputs": [
    {
     "name": "stderr",
     "output_type": "stream",
     "text": [
      "2024-10-01 10:13:37.253992: W tensorflow/core/framework/cpu_allocator_impl.cc:82] Allocation of 75264000 exceeds 10% of free system memory.\n"
     ]
    }
   ],
   "source": [
    "# Downscaling the images\n",
    "X_train = tf.image.resize(X_train, (2,2)).numpy()\n",
    "X_test = tf.image.resize(X_test, (2,2)).numpy()\n"
   ]
  },
  {
   "cell_type": "code",
   "execution_count": 20,
   "metadata": {},
   "outputs": [
    {
     "data": {
      "image/png": "[encoded data removed]",
      "text/plain": [
       "<Figure size 640x480 with 2 Axes>"
      ]
     },
     "metadata": {},
     "output_type": "display_data"
    }
   ],
   "source": [
    "\n",
    "#Let's again have a look at the first image from our resized X_train\n",
    "plt.imshow(X_train[0,:,:,0])\n",
    "plt.colorbar()\n",
    "plt.title('Visualization of the Resized Dataset')\n",
    "plt.show()"
   ]
  },
  {
   "cell_type": "code",
   "execution_count": 21,
   "metadata": {},
   "outputs": [],
   "source": [
    "\n",
    "#Splitting the training fdataset into train and validation datasets\n",
    "X_train, X_valid, y_train, y_valid = train_test_split(X_train, y_train, test_size = 0.15, random_state=0)"
   ]
  },
  {
   "cell_type": "code",
   "execution_count": 22,
   "metadata": {},
   "outputs": [
    {
     "name": "stdout",
     "output_type": "stream",
     "text": [
      "The shape of the X_train is (10200, 2, 2, 1)\n",
      "The shape of the y_train is (10200,)\n",
      "The shape of the X_valid is (1800, 2, 2, 1)\n",
      "The shape of the y_valid is (1800,)\n"
     ]
    }
   ],
   "source": [
    "print(\"The shape of the X_train is {}\".format(X_train.shape))\n",
    "print(\"The shape of the y_train is {}\".format(y_train.shape))\n",
    "print(\"The shape of the X_valid is {}\".format(X_valid.shape))\n",
    "print(\"The shape of the y_valid is {}\".format(y_valid.shape))"
   ]
  },
  {
   "cell_type": "code",
   "execution_count": 23,
   "metadata": {},
   "outputs": [],
   "source": [
    "# FLattening the images\n",
    "X_train = X_train.reshape(X_train.shape[0], *(1,4,1))\n",
    "X_valid = X_valid.reshape(X_valid.shape[0], *(1,4,1))\n",
    "X_test = X_test.reshape(X_test.shape[0], *(1,4,1))"
   ]
  },
  {
   "cell_type": "code",
   "execution_count": 24,
   "metadata": {},
   "outputs": [
    {
     "name": "stdout",
     "output_type": "stream",
     "text": [
      "[[[0.        ]\n",
      "  [0.41568628]\n",
      "  [0.7137255 ]\n",
      "  [0.73921573]]]\n"
     ]
    }
   ],
   "source": [
    "#Let's have a look on the first example\n",
    "print(X_train[0])"
   ]
  },
  {
   "cell_type": "code",
   "execution_count": 25,
   "metadata": {},
   "outputs": [],
   "source": [
    "def binary_encode(X,threshold=0.5):\n",
    "  \"\"\"\n",
    "  Encodes the given datset to use binary encoding\n",
    "\n",
    "  Parameters:\n",
    "  X(array) : Image data to be processed for encoding\n",
    "  threshold(float): Threshold for binary encoding, 0.5 by default\n",
    "\n",
    "  Returns:\n",
    "  encoded_images(array): Binary encoded Image Data\n",
    "\n",
    "  \"\"\" \n",
    "  encoded_images = list()\n",
    "  for image in X:\n",
    "    # pixel value is 1 if it's greater than threshold or else zero\n",
    "    encoded_image = [1 if j>threshold else 0 for j in image[0]]\n",
    "    encoded_images.append(encoded_image)\n",
    "  return np.array(encoded_images)"
   ]
  },
  {
   "cell_type": "code",
   "execution_count": 26,
   "metadata": {},
   "outputs": [],
   "source": [
    "X_train = binary_encode(X_train)"
   ]
  },
  {
   "cell_type": "code",
   "execution_count": 27,
   "metadata": {},
   "outputs": [
    {
     "name": "stdout",
     "output_type": "stream",
     "text": [
      "[0 0 1 1]\n"
     ]
    }
   ],
   "source": [
    "\n",
    "# Now, Let's have a look on the first example again\n",
    "print(X_train[0])"
   ]
  },
  {
   "cell_type": "code",
   "execution_count": 28,
   "metadata": {},
   "outputs": [
    {
     "name": "stdout",
     "output_type": "stream",
     "text": [
      "The shape of the X_train is (10200, 4)\n"
     ]
    }
   ],
   "source": [
    "print(\"The shape of the X_train is {}\".format(X_train.shape))"
   ]
  },
  {
   "cell_type": "code",
   "execution_count": 29,
   "metadata": {},
   "outputs": [],
   "source": [
    "def create_circuit_from_image(encoded_image):\n",
    "  \"\"\"\n",
    "  Returns a circuit for given encoded image\n",
    "\n",
    "  Parameters:\n",
    "  encoded_image (array): Encoded Image\n",
    "\n",
    "  Returns:\n",
    "  circuit (cirq.Circuit object): cirq circuit\n",
    "  \"\"\"\n",
    "  qubits = cirq.GridQubit.rect(2,2)\n",
    "  circuit = cirq.Circuit()\n",
    "  for i, pixel in enumerate(encoded_image):\n",
    "    if pixel:\n",
    "      circuit.append(cirq.X(qubits[i]))\n",
    "  return circuit"
   ]
  },
  {
   "cell_type": "code",
   "execution_count": 30,
   "metadata": {},
   "outputs": [],
   "source": [
    "X_train = [create_circuit_from_image(encoded_image) for encoded_image in X_train]"
   ]
  },
  {
   "cell_type": "code",
   "execution_count": 31,
   "metadata": {},
   "outputs": [
    {
     "name": "stdout",
     "output_type": "stream",
     "text": [
      "(1, 0): ───X───\n",
      "\n",
      "(1, 1): ───X───\n"
     ]
    }
   ],
   "source": [
    "# Let's have a look at the circuit for the first image\n",
    "print(X_train[0])"
   ]
  },
  {
   "cell_type": "code",
   "execution_count": 32,
   "metadata": {},
   "outputs": [],
   "source": [
    "X_train_tfq = tfq.convert_to_tensor(X_train)"
   ]
  },
  {
   "cell_type": "code",
   "execution_count": 33,
   "metadata": {},
   "outputs": [],
   "source": [
    "X_valid = binary_encode(X_valid)\n",
    "X_test = binary_encode(X_test)"
   ]
  },
  {
   "cell_type": "code",
   "execution_count": 34,
   "metadata": {},
   "outputs": [],
   "source": [
    "X_valid = [create_circuit_from_image(encoded_image) for encoded_image in X_valid]\n",
    "X_test = [create_circuit_from_image(encoded_image) for encoded_image in X_test]"
   ]
  },
  {
   "cell_type": "code",
   "execution_count": 35,
   "metadata": {},
   "outputs": [],
   "source": [
    "\n",
    "X_valid_tfq = tfq.convert_to_tensor(X_valid)\n",
    "X_test_tfq = tfq.convert_to_tensor(X_test)"
   ]
  },
  {
   "cell_type": "code",
   "execution_count": 36,
   "metadata": {},
   "outputs": [],
   "source": [
    "class QNN():\n",
    "    def __init__(self, data_qubits, readout):\n",
    "      self.data_qubits = data_qubits\n",
    "      self.readout = readout\n",
    "\n",
    "    def add_singleQubit_gate(self,circuit, gate, qubit_index):\n",
    "      \"\"\"\n",
    "      Adds single qubit gate to the circuit\n",
    "      Parameters:\n",
    "      circuit(cirq.Circuit object): Cirq circuit\n",
    "      gate(cirq gate): gate to append to the circuit\n",
    "      qubits(list): index of qubits to apply the gate \n",
    "      Returns:\n",
    "      None\n",
    "      \"\"\"\n",
    "      for index in qubit_index:\n",
    "        circuit.append(gate(self.data_qubits[index]))\n",
    "\n",
    "    def add_twoQubit_gate(self,circuit, gate, qubit_index):\n",
    "      \"\"\"\n",
    "      Adds two qubit gate to the circuit\n",
    "      Parameters:\n",
    "      circuit(cirq.Circuit object): Cirq circuit\n",
    "      gate(cirq gate): gate to append to the circuit\n",
    "      qubits(list): index of qubits to apply the gate\n",
    "      Returns:\n",
    "      None\n",
    "      \"\"\"\n",
    "      if len(qubit_index)!=2:\n",
    "        raise Exception(\"The length of the list of indices passed for two qubit \\\n",
    "        gate operations must be equal to two\")\n",
    "      circuit.append(gate(self.data_qubits[qubit_index[0]], self.data_qubits[qubit_index[1]]))\n",
    "\n",
    "    def add_layer(self, circuit, gate, symbol_gate):\n",
    "      \"\"\"\n",
    "      Adds New Gates/Layers to the Circuit\n",
    "      Parameters:\n",
    "      circuit(cirq.Circuit object): Cirq circuit\n",
    "      gate(cirq gate): gate to append to the circuit\n",
    "      symbol_gate(string): symbol for the gate\n",
    "      Returns:\n",
    "      None\n",
    "      \"\"\"\n",
    "      for i, qubit in enumerate(self.data_qubits):\n",
    "        symbol = sympy.Symbol(symbol_gate+ '-' + str(i))\n",
    "        circuit.append(gate(qubit, self.readout)**symbol)"
   ]
  },
  {
   "cell_type": "code",
   "execution_count": 37,
   "metadata": {},
   "outputs": [],
   "source": [
    "def create_qnn():\n",
    "    \"\"\"Create a QNN model circuit and readout operation to go along with it.\"\"\"\n",
    "    data_qubits = cirq.GridQubit.rect(2,2)  # a 4x4 grid.\n",
    "    readout = cirq.GridQubit(-1, -1)         # a single qubit at [-1,-1]\n",
    "    circuit = cirq.Circuit()\n",
    "\n",
    "    # Prepare the readout qubit.\n",
    "    circuit.append(cirq.X(readout))\n",
    "    circuit.append(cirq.H(readout))\n",
    "\n",
    "    qnn = QNN(\n",
    "        data_qubits = data_qubits,\n",
    "        readout=readout)\n",
    "    \n",
    "    \"\"\"\n",
    "    # Though we don't use single and double Qubit Gates in our Circuit, we provide \n",
    "    # the methods \"add_singleQubit_gate\" and \"add_twoQubit_gate\" for our Class QNN\n",
    "    # that can be used to add Single and Double Qubit Gates respectively.\n",
    "    # An exmaple is shown below:\n",
    "\n",
    "    #Add Hadamard Gates\n",
    "    qnn.add_singleQubit_gate(circuit, cirq.H, [0,1,2,3])\n",
    "\n",
    "    #Add CNOT gates\n",
    "    qnn.add_twoQubit_gate(circuit, cirq.CNOT, [0, 1])\n",
    "    qnn.add_twoQubit_gate(circuit, cirq.CNOT, [2, 3])\n",
    "    \"\"\"\n",
    "\n",
    "    # Add the ising coupling XX gate\n",
    "    qnn.add_layer(circuit, cirq.XX, \"xx\")\n",
    "    qnn.add_layer(circuit, cirq.ZZ, \"zz\")\n",
    "\n",
    "    # Finally, prepare the readout qubit.\n",
    "    circuit.append(cirq.H(readout))\n",
    "\n",
    "    return circuit, cirq.Z(readout)"
   ]
  },
  {
   "cell_type": "code",
   "execution_count": 38,
   "metadata": {},
   "outputs": [],
   "source": [
    "qmodel, model_readout = create_qnn()"
   ]
  },
  {
   "cell_type": "code",
   "execution_count": 39,
   "metadata": {},
   "outputs": [
    {
     "name": "stderr",
     "output_type": "stream",
     "text": [
      "findfont: Font family 'Arial' not found.\n",
      "findfont: Font family 'Arial' not found.\n",
      "findfont: Font family 'Arial' not found.\n",
      "findfont: Font family 'Arial' not found.\n",
      "findfont: Font family 'Arial' not found.\n",
      "findfont: Font family 'Arial' not found.\n",
      "findfont: Font family 'Arial' not found.\n",
      "findfont: Font family 'Arial' not found.\n",
      "findfont: Font family 'Arial' not found.\n",
      "findfont: Font family 'Arial' not found.\n",
      "findfont: Font family 'Arial' not found.\n",
      "findfont: Font family 'Arial' not found.\n",
      "findfont: Font family 'Arial' not found.\n",
      "findfont: Font family 'Arial' not found.\n",
      "findfont: Font family 'Arial' not found.\n",
      "findfont: Font family 'Arial' not found.\n",
      "findfont: Font family 'Arial' not found.\n",
      "findfont: Font family 'Arial' not found.\n",
      "findfont: Font family 'Arial' not found.\n",
      "findfont: Font family 'Arial' not found.\n",
      "findfont: Font family 'Arial' not found.\n",
      "findfont: Font family 'Arial' not found.\n",
      "findfont: Font family 'Arial' not found.\n",
      "findfont: Font family 'Arial' not found.\n"
     ]
    },
    {
     "data": {
      "image/svg+xml": [
       "<svg xmlns=\"http://www.w3.org/2000/svg\" width=\"1097.236875\" height=\"250.0\"><line x1=\"39.810625\" x2=\"1067.236875\" y1=\"25.0\" y2=\"25.0\" stroke=\"#1967d2\" stroke-width=\"1\" /><line x1=\"39.810625\" x2=\"1067.236875\" y1=\"75.0\" y2=\"75.0\" stroke=\"#1967d2\" stroke-width=\"1\" /><line x1=\"39.810625\" x2=\"1067.236875\" y1=\"125.0\" y2=\"125.0\" stroke=\"#1967d2\" stroke-width=\"1\" /><line x1=\"39.810625\" x2=\"1067.236875\" y1=\"175.0\" y2=\"175.0\" stroke=\"#1967d2\" stroke-width=\"1\" /><line x1=\"39.810625\" x2=\"1067.236875\" y1=\"225.0\" y2=\"225.0\" stroke=\"#1967d2\" stroke-width=\"1\" /><line x1=\"249.99353515625\" x2=\"249.99353515625\" y1=\"25.0\" y2=\"75.0\" stroke=\"black\" stroke-width=\"3\" /><line x1=\"350.73810546875006\" x2=\"350.73810546875006\" y1=\"25.0\" y2=\"125.0\" stroke=\"black\" stroke-width=\"3\" /><line x1=\"451.48267578125007\" x2=\"451.48267578125007\" y1=\"25.0\" y2=\"175.0\" stroke=\"black\" stroke-width=\"3\" /><line x1=\"552.2272460937501\" x2=\"552.2272460937501\" y1=\"25.0\" y2=\"225.0\" stroke=\"black\" stroke-width=\"3\" /><line x1=\"651.92919921875\" x2=\"651.92919921875\" y1=\"25.0\" y2=\"75.0\" stroke=\"black\" stroke-width=\"3\" /><line x1=\"750.58853515625\" x2=\"750.58853515625\" y1=\"25.0\" y2=\"125.0\" stroke=\"black\" stroke-width=\"3\" /><line x1=\"849.2478710937501\" x2=\"849.2478710937501\" y1=\"25.0\" y2=\"175.0\" stroke=\"black\" stroke-width=\"3\" /><line x1=\"947.9072070312501\" x2=\"947.9072070312501\" y1=\"25.0\" y2=\"225.0\" stroke=\"black\" stroke-width=\"3\" /><rect x=\"10.0\" y=\"5.0\" width=\"59.62125\" height=\"40\" stroke=\"black\" fill=\"white\" stroke-width=\"0\" /><text x=\"39.810625\" y=\"25.0\" dominant-baseline=\"middle\" text-anchor=\"middle\" font-size=\"14px\" font-family=\"Arial\">(-1, -1): </text><rect x=\"10.0\" y=\"55.0\" width=\"59.62125\" height=\"40\" stroke=\"black\" fill=\"white\" stroke-width=\"0\" /><text x=\"39.810625\" y=\"75.0\" dominant-baseline=\"middle\" text-anchor=\"middle\" font-size=\"14px\" font-family=\"Arial\">(0, 0): </text><rect x=\"10.0\" y=\"105.0\" width=\"59.62125\" height=\"40\" stroke=\"black\" fill=\"white\" stroke-width=\"0\" /><text x=\"39.810625\" y=\"125.0\" dominant-baseline=\"middle\" text-anchor=\"middle\" font-size=\"14px\" font-family=\"Arial\">(0, 1): </text><rect x=\"10.0\" y=\"155.0\" width=\"59.62125\" height=\"40\" stroke=\"black\" fill=\"white\" stroke-width=\"0\" /><text x=\"39.810625\" y=\"175.0\" dominant-baseline=\"middle\" text-anchor=\"middle\" font-size=\"14px\" font-family=\"Arial\">(1, 0): </text><rect x=\"10.0\" y=\"205.0\" width=\"59.62125\" height=\"40\" stroke=\"black\" fill=\"white\" stroke-width=\"0\" /><text x=\"39.810625\" y=\"225.0\" dominant-baseline=\"middle\" text-anchor=\"middle\" font-size=\"14px\" font-family=\"Arial\">(1, 1): </text><rect x=\"89.62125\" y=\"5.0\" width=\"40\" height=\"40\" stroke=\"black\" fill=\"white\" stroke-width=\"1\" /><text x=\"109.62125\" y=\"25.0\" dominant-baseline=\"middle\" text-anchor=\"middle\" font-size=\"18px\" font-family=\"Arial\">X</text><rect x=\"149.62125\" y=\"5.0\" width=\"40\" height=\"40\" stroke=\"black\" fill=\"white\" stroke-width=\"1\" /><text x=\"169.62125\" y=\"25.0\" dominant-baseline=\"middle\" text-anchor=\"middle\" font-size=\"18px\" font-family=\"Arial\">H</text><rect x=\"209.62125\" y=\"55.0\" width=\"80.74457031250002\" height=\"40\" stroke=\"black\" fill=\"white\" stroke-width=\"1\" /><text x=\"249.99353515625\" y=\"75.0\" dominant-baseline=\"middle\" text-anchor=\"middle\" font-size=\"14px\" font-family=\"Arial\">XX^(xx-0)</text><rect x=\"209.62125\" y=\"5.0\" width=\"80.74457031250002\" height=\"40\" stroke=\"black\" fill=\"white\" stroke-width=\"1\" /><text x=\"249.99353515625\" y=\"25.0\" dominant-baseline=\"middle\" text-anchor=\"middle\" font-size=\"14px\" font-family=\"Arial\">XX</text><rect x=\"310.36582031250003\" y=\"105.0\" width=\"80.74457031250002\" height=\"40\" stroke=\"black\" fill=\"white\" stroke-width=\"1\" /><text x=\"350.73810546875006\" y=\"125.0\" dominant-baseline=\"middle\" text-anchor=\"middle\" font-size=\"14px\" font-family=\"Arial\">XX^(xx-1)</text><rect x=\"310.36582031250003\" y=\"5.0\" width=\"80.74457031250002\" height=\"40\" stroke=\"black\" fill=\"white\" stroke-width=\"1\" /><text x=\"350.73810546875006\" y=\"25.0\" dominant-baseline=\"middle\" text-anchor=\"middle\" font-size=\"14px\" font-family=\"Arial\">XX</text><rect x=\"411.11039062500004\" y=\"155.0\" width=\"80.74457031250002\" height=\"40\" stroke=\"black\" fill=\"white\" stroke-width=\"1\" /><text x=\"451.48267578125007\" y=\"175.0\" dominant-baseline=\"middle\" text-anchor=\"middle\" font-size=\"14px\" font-family=\"Arial\">XX^(xx-2)</text><rect x=\"411.11039062500004\" y=\"5.0\" width=\"80.74457031250002\" height=\"40\" stroke=\"black\" fill=\"white\" stroke-width=\"1\" /><text x=\"451.48267578125007\" y=\"25.0\" dominant-baseline=\"middle\" text-anchor=\"middle\" font-size=\"14px\" font-family=\"Arial\">XX</text><rect x=\"511.85496093750004\" y=\"205.0\" width=\"80.74457031250002\" height=\"40\" stroke=\"black\" fill=\"white\" stroke-width=\"1\" /><text x=\"552.2272460937501\" y=\"225.0\" dominant-baseline=\"middle\" text-anchor=\"middle\" font-size=\"14px\" font-family=\"Arial\">XX^(xx-3)</text><rect x=\"511.85496093750004\" y=\"5.0\" width=\"80.74457031250002\" height=\"40\" stroke=\"black\" fill=\"white\" stroke-width=\"1\" /><text x=\"552.2272460937501\" y=\"25.0\" dominant-baseline=\"middle\" text-anchor=\"middle\" font-size=\"14px\" font-family=\"Arial\">XX</text><rect x=\"612.59953125\" y=\"55.0\" width=\"78.65933593750002\" height=\"40\" stroke=\"black\" fill=\"white\" stroke-width=\"1\" /><text x=\"651.92919921875\" y=\"75.0\" dominant-baseline=\"middle\" text-anchor=\"middle\" font-size=\"14px\" font-family=\"Arial\">ZZ^(zz-0)</text><rect x=\"612.59953125\" y=\"5.0\" width=\"78.65933593750002\" height=\"40\" stroke=\"black\" fill=\"white\" stroke-width=\"1\" /><text x=\"651.92919921875\" y=\"25.0\" dominant-baseline=\"middle\" text-anchor=\"middle\" font-size=\"14px\" font-family=\"Arial\">ZZ</text><rect x=\"711.2588671875001\" y=\"105.0\" width=\"78.65933593750002\" height=\"40\" stroke=\"black\" fill=\"white\" stroke-width=\"1\" /><text x=\"750.58853515625\" y=\"125.0\" dominant-baseline=\"middle\" text-anchor=\"middle\" font-size=\"14px\" font-family=\"Arial\">ZZ^(zz-1)</text><rect x=\"711.2588671875001\" y=\"5.0\" width=\"78.65933593750002\" height=\"40\" stroke=\"black\" fill=\"white\" stroke-width=\"1\" /><text x=\"750.58853515625\" y=\"25.0\" dominant-baseline=\"middle\" text-anchor=\"middle\" font-size=\"14px\" font-family=\"Arial\">ZZ</text><rect x=\"809.9182031250001\" y=\"155.0\" width=\"78.65933593750002\" height=\"40\" stroke=\"black\" fill=\"white\" stroke-width=\"1\" /><text x=\"849.2478710937501\" y=\"175.0\" dominant-baseline=\"middle\" text-anchor=\"middle\" font-size=\"14px\" font-family=\"Arial\">ZZ^(zz-2)</text><rect x=\"809.9182031250001\" y=\"5.0\" width=\"78.65933593750002\" height=\"40\" stroke=\"black\" fill=\"white\" stroke-width=\"1\" /><text x=\"849.2478710937501\" y=\"25.0\" dominant-baseline=\"middle\" text-anchor=\"middle\" font-size=\"14px\" font-family=\"Arial\">ZZ</text><rect x=\"908.5775390625001\" y=\"205.0\" width=\"78.65933593750002\" height=\"40\" stroke=\"black\" fill=\"white\" stroke-width=\"1\" /><text x=\"947.9072070312501\" y=\"225.0\" dominant-baseline=\"middle\" text-anchor=\"middle\" font-size=\"14px\" font-family=\"Arial\">ZZ^(zz-3)</text><rect x=\"908.5775390625001\" y=\"5.0\" width=\"78.65933593750002\" height=\"40\" stroke=\"black\" fill=\"white\" stroke-width=\"1\" /><text x=\"947.9072070312501\" y=\"25.0\" dominant-baseline=\"middle\" text-anchor=\"middle\" font-size=\"14px\" font-family=\"Arial\">ZZ</text><rect x=\"1007.236875\" y=\"5.0\" width=\"40\" height=\"40\" stroke=\"black\" fill=\"white\" stroke-width=\"1\" /><text x=\"1027.236875\" y=\"25.0\" dominant-baseline=\"middle\" text-anchor=\"middle\" font-size=\"18px\" font-family=\"Arial\">H</text></svg>"
      ],
      "text/plain": [
       "<cirq.contrib.svg.svg.SVGCircuit at 0x76de3e91ecd0>"
      ]
     },
     "execution_count": 39,
     "metadata": {},
     "output_type": "execute_result"
    }
   ],
   "source": [
    "#Let's have a look at our Qauntum Circuit that will perform the classification\n",
    "SVGCircuit(qmodel)"
   ]
  },
  {
   "cell_type": "code",
   "execution_count": 40,
   "metadata": {},
   "outputs": [],
   "source": [
    "model = tf.keras.Sequential([\n",
    "                             \n",
    "    # The input is the data-circuit, encoded as a tf.string\n",
    "    tf.keras.layers.Input(shape=(), dtype=tf.string),\n",
    "\n",
    "    \n",
    "    # The PQC stands for Paramaterized Quantum Circuit\n",
    "    # This returns the expectation value\n",
    "    tfq.layers.PQC(qmodel, model_readout),\n",
    "])"
   ]
  },
  {
   "cell_type": "code",
   "execution_count": 41,
   "metadata": {},
   "outputs": [],
   "source": [
    "# To use Hinge Loss, we convert the labels to 1 and -1\n",
    "y_train_h = np.array([1 if i==1 else -1 for i in y_train ])\n",
    "y_valid_h = np.array([1 if i==1 else -1 for i in y_valid ])\n",
    "y_test_h = np.array([1 if i==1 else -1 for i in y_test ])"
   ]
  },
  {
   "cell_type": "code",
   "execution_count": 42,
   "metadata": {},
   "outputs": [
    {
     "name": "stdout",
     "output_type": "stream",
     "text": [
      "1\n"
     ]
    }
   ],
   "source": [
    "# Let's have a look at the first label from the training dataset\n",
    "print(y_train_h[0])"
   ]
  },
  {
   "cell_type": "code",
   "execution_count": 43,
   "metadata": {},
   "outputs": [],
   "source": [
    "# Define the custom Hinge Accuracy\n",
    "def hinge_accuracy(y_true, y_pred):\n",
    "    y_true = tf.squeeze(y_true) > 0.0\n",
    "    y_pred = tf.squeeze(y_pred) > 0.0\n",
    "    result = tf.cast(y_true == y_pred, tf.float32)\n",
    "\n",
    "    return tf.reduce_mean(result)"
   ]
  },
  {
   "cell_type": "code",
   "execution_count": 44,
   "metadata": {},
   "outputs": [],
   "source": [
    "model.compile(\n",
    "    loss=tf.keras.losses.Hinge(),\n",
    "    optimizer=tf.keras.optimizers.Adam(learning_rate=0.001),\n",
    "    metrics=[hinge_accuracy])"
   ]
  },
  {
   "cell_type": "code",
   "execution_count": 45,
   "metadata": {},
   "outputs": [
    {
     "name": "stdout",
     "output_type": "stream",
     "text": [
      "Epoch 1/10\n",
      "160/160 [==============================] - 3s 17ms/step - loss: 0.9104 - hinge_accuracy: 0.6231 - val_loss: 0.7584 - val_hinge_accuracy: 0.7764\n",
      "Epoch 2/10\n",
      "160/160 [==============================] - 3s 16ms/step - loss: 0.5882 - hinge_accuracy: 0.7780 - val_loss: 0.4609 - val_hinge_accuracy: 0.7958\n",
      "Epoch 3/10\n",
      "160/160 [==============================] - 2s 15ms/step - loss: 0.4112 - hinge_accuracy: 0.8028 - val_loss: 0.4125 - val_hinge_accuracy: 0.7958\n",
      "Epoch 4/10\n",
      "160/160 [==============================] - 3s 16ms/step - loss: 0.3952 - hinge_accuracy: 0.8022 - val_loss: 0.4114 - val_hinge_accuracy: 0.7958\n",
      "Epoch 5/10\n",
      "160/160 [==============================] - 2s 16ms/step - loss: 0.3948 - hinge_accuracy: 0.8023 - val_loss: 0.4110 - val_hinge_accuracy: 0.7958\n",
      "Epoch 6/10\n",
      "160/160 [==============================] - 3s 16ms/step - loss: 0.3946 - hinge_accuracy: 0.8023 - val_loss: 0.4105 - val_hinge_accuracy: 0.7958\n",
      "Epoch 7/10\n",
      "160/160 [==============================] - 2s 15ms/step - loss: 0.3944 - hinge_accuracy: 0.8022 - val_loss: 0.4095 - val_hinge_accuracy: 0.7958\n",
      "Epoch 8/10\n",
      "160/160 [==============================] - 3s 16ms/step - loss: 0.3941 - hinge_accuracy: 0.8028 - val_loss: 0.4083 - val_hinge_accuracy: 0.7958\n",
      "Epoch 9/10\n",
      "160/160 [==============================] - 2s 15ms/step - loss: 0.3938 - hinge_accuracy: 0.8022 - val_loss: 0.4067 - val_hinge_accuracy: 0.7958\n",
      "Epoch 10/10\n",
      "160/160 [==============================] - 2s 16ms/step - loss: 0.3934 - hinge_accuracy: 0.8028 - val_loss: 0.4045 - val_hinge_accuracy: 0.7958\n"
     ]
    }
   ],
   "source": [
    "qnn_history = model.fit(\n",
    "      X_train_tfq, y_train_h,\n",
    "      batch_size=64,\n",
    "      epochs=10,\n",
    "      verbose=1,\n",
    "      validation_data=(X_valid_tfq, y_valid_h))"
   ]
  },
  {
   "cell_type": "code",
   "execution_count": 46,
   "metadata": {},
   "outputs": [
    {
     "name": "stdout",
     "output_type": "stream",
     "text": [
      "63/63 [==============================] - 0s 5ms/step - loss: 0.3628 - hinge_accuracy: 0.8229\n"
     ]
    },
    {
     "data": {
      "text/plain": [
       "[0.362840861082077, 0.8229166865348816]"
      ]
     },
     "execution_count": 46,
     "metadata": {},
     "output_type": "execute_result"
    }
   ],
   "source": [
    "model.evaluate(X_test_tfq, y_test_h)"
   ]
  },
  {
   "cell_type": "code",
   "execution_count": 47,
   "metadata": {},
   "outputs": [
    {
     "data": {
      "image/png": "[encoded data removed]",
      "text/plain": [
       "<Figure size 640x480 with 1 Axes>"
      ]
     },
     "metadata": {},
     "output_type": "display_data"
    }
   ],
   "source": [
    "# Visualize Accuracy\n",
    "plt.plot(qnn_history.history['hinge_accuracy'])\n",
    "plt.plot(qnn_history.history['val_hinge_accuracy'])\n",
    "plt.title('Model Accuracy')\n",
    "plt.xlabel('Epoch')\n",
    "plt.ylabel('Accuracy')\n",
    "plt.legend(['train','test'],loc=\"best\")\n",
    "plt.show()"
   ]
  },
  {
   "cell_type": "code",
   "execution_count": 48,
   "metadata": {},
   "outputs": [
    {
     "data": {
      "image/png": "[encoded data removed]",
      "text/plain": [
       "<Figure size 640x480 with 1 Axes>"
      ]
     },
     "metadata": {},
     "output_type": "display_data"
    }
   ],
   "source": [
    "# Visualize Loss\n",
    "plt.plot(qnn_history.history['loss'])\n",
    "plt.plot(qnn_history.history['val_loss'])\n",
    "plt.title('Model Loss')\n",
    "plt.xlabel('Epoch')\n",
    "plt.ylabel('Loss')\n",
    "plt.legend(['train','test'],loc=\"best\")\n",
    "plt.show()"
   ]
  },
  {
   "cell_type": "code",
   "execution_count": 51,
   "metadata": {},
   "outputs": [],
   "source": [
    "model.save_weights('QModelWeights')"
   ]
  }
 ],
 "metadata": {
  "kernelspec": {
   "display_name": "Python 3",
   "language": "python",
   "name": "python3"
  },
  "language_info": {
   "codemirror_mode": {
    "name": "ipython",
    "version": 3
   },
   "file_extension": ".py",
   "mimetype": "text/x-python",
   "name": "python",
   "nbconvert_exporter": "python",
   "pygments_lexer": "ipython3",
   "version": "3.8.10"
  }
 },
 "nbformat": 4,
 "nbformat_minor": 2
}
